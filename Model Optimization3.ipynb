{
 "cells": [
  {
   "cell_type": "markdown",
   "metadata": {},
   "source": [
    "> # Model Optimization"
   ]
  },
  {
   "cell_type": "code",
   "execution_count": 93,
   "metadata": {},
   "outputs": [],
   "source": [
    "import pandas as pd\n",
    "import numpy as np\n",
    "\n",
    "import seaborn as sns\n",
    "import matplotlib.pyplot as plt\n",
    "\n",
    "from sklearn.preprocessing import PolynomialFeatures\n",
    "\n",
    "from sklearn.model_selection import train_test_split\n",
    "from sklearn.model_selection import cross_val_score, StratifiedKFold, RepeatedStratifiedKFold, cross_validate\n",
    "from sklearn.linear_model import LogisticRegression\n",
    "from sklearn.neighbors import KNeighborsClassifier\n",
    "from sklearn.tree import DecisionTreeClassifier\n",
    "# from sklearn.pipeline import Pipeline\n",
    "from sklearn.impute import SimpleImputer\n",
    "from sklearn.feature_selection import RFE\n",
    "from sklearn.model_selection import GridSearchCV, StratifiedKFold, RandomizedSearchCV\n",
    "from sklearn.preprocessing import OneHotEncoder\n",
    "from sklearn.compose import ColumnTransformer\n",
    "from sklearn.ensemble import RandomForestClassifier, VotingClassifier\n",
    "from imblearn.over_sampling import RandomOverSampler, SMOTE\n",
    "\n",
    "import category_encoders as ce\n",
    "from sklearn.decomposition import PCA\n",
    "\n",
    "from imblearn.pipeline import Pipeline\n",
    "from imblearn.over_sampling import RandomOverSampler, SMOTE\n",
    "from imblearn.under_sampling import RandomUnderSampler\n",
    "\n",
    "from scipy.stats import mannwhitneyu\n",
    "\n",
    "import pingouin as pg\n",
    "\n",
    "from sklearn.metrics import confusion_matrix, classification_report, f1_score, recall_score, precision_score, plot_confusion_matrix, plot_roc_curve, roc_curve, make_scorer\n",
    "from xgboost import XGBClassifier\n",
    "import warnings\n",
    "warnings.filterwarnings('ignore')\n",
    "from statsmodels.stats.outliers_influence import variance_inflation_factor\n",
    "import pickle\n"
   ]
  },
  {
   "cell_type": "markdown",
   "metadata": {},
   "source": [
    "> # Event\n",
    "- C – Closest approach to a coast, not followed by a landfall\n",
    "- G – Genesis\n",
    "- I – An intensity peak in terms of both pressure and wind\n",
    "- L – Landfall (center of system crossing a coastline)\n",
    "- P – Minimum in central pressure\n",
    "- R – Provides additional detail on the intensity of the cyclone when rapid changes are underway\n",
    "- S – Change of status of the system\n",
    "- T – Provides additional detail on the track (position) of the cyclone\n",
    "- W – Maximum sustained wind speed\n"
   ]
  },
  {
   "cell_type": "markdown",
   "metadata": {},
   "source": [
    "> # Status\n",
    "- TD – Tropical cyclone of tropical depression intensity (< 34 knots)\n",
    "- TS – Tropical cyclone of tropical storm intensity (34-63 knots)\n",
    "- HU – Tropical cyclone of hurricane intensity (> 64 knots)\n",
    "- EX – Extratropical cyclone (of any intensity)\n",
    "- SD – Subtropical cyclone of subtropical depression intensity (< 34 knots)\n",
    "- SS – Subtropical cyclone of subtropical storm intensity (> 34 knots)\n",
    "- LO – A low that is neither a tropical cyclone, a subtropical cyclone, nor an extratropical cyclone (of any intensity)\n",
    "- WV – Tropical Wave (of any intensity)\n",
    "- DB – Disturbance (of any intensity)"
   ]
  },
  {
   "cell_type": "code",
   "execution_count": 94,
   "metadata": {},
   "outputs": [],
   "source": [
    "pacific= pd.read_csv('Pacific_for_Modelling.csv').set_index('Unnamed: 0')"
   ]
  },
  {
   "cell_type": "code",
   "execution_count": 97,
   "metadata": {},
   "outputs": [],
   "source": [
    "X =pacific[['Latitude', \n",
    "       'Longitude',  'Maximum Wind', 'Minimum Pressure',\n",
    "       'Low Wind NE', 'Low Wind SE', 'Low Wind SW', 'Low Wind NW',\n",
    "       'Moderate Wind NE', 'Moderate Wind SE', 'Moderate Wind SW',\n",
    "       'Moderate Wind NW', 'High Wind NE', 'High Wind SE', 'High Wind SW',\n",
    "       'High Wind NW' , 'Month' , 'Year']]\n",
    "y= pacific['Status']"
   ]
  },
  {
   "cell_type": "markdown",
   "metadata": {},
   "source": [
    "base model"
   ]
  },
  {
   "cell_type": "code",
   "execution_count": 98,
   "metadata": {},
   "outputs": [],
   "source": [
    "dtc = DecisionTreeClassifier()\n",
    "rfc = RandomForestClassifier()\n",
    "xgb = XGBClassifier()\n",
    "smote = SMOTE()"
   ]
  },
  {
   "cell_type": "markdown",
   "metadata": {},
   "source": [
    "Data splitting"
   ]
  },
  {
   "cell_type": "code",
   "execution_count": 99,
   "metadata": {},
   "outputs": [],
   "source": [
    "X_train_val, X_test, y_train_val, y_test = train_test_split(X,y,test_size=.2, random_state=2020)"
   ]
  },
  {
   "cell_type": "markdown",
   "metadata": {},
   "source": [
    "## We will be using recall as metric because in this case false negatives are more catastrophic than the false positives"
   ]
  },
  {
   "cell_type": "markdown",
   "metadata": {},
   "source": [
    "> # Feature Selection"
   ]
  },
  {
   "cell_type": "code",
   "execution_count": 100,
   "metadata": {},
   "outputs": [
    {
     "data": {
      "text/plain": [
       "Maximum Wind        0.659970\n",
       "Minimum Pressure    0.104198\n",
       "Latitude            0.037507\n",
       "Year                0.036120\n",
       "Longitude           0.035351\n",
       "Low Wind NE         0.021433\n",
       "Low Wind NW         0.020478\n",
       "Low Wind SE         0.015164\n",
       "Month               0.011219\n",
       "Low Wind SW         0.010939\n",
       "High Wind NE        0.009806\n",
       "High Wind SE        0.008919\n",
       "Moderate Wind NE    0.007733\n",
       "High Wind SW        0.006126\n",
       "High Wind NW        0.006102\n",
       "Moderate Wind SW    0.003791\n",
       "Moderate Wind NW    0.003034\n",
       "Moderate Wind SE    0.002111\n",
       "dtype: float64"
      ]
     },
     "execution_count": 100,
     "metadata": {},
     "output_type": "execute_result"
    }
   ],
   "source": [
    "rfc.fit(X_train_val , y_train_val)\n",
    "features = pd.Series(rfc.feature_importances_ , index= X_train_val.columns).sort_values(ascending=False)\n",
    "features"
   ]
  },
  {
   "cell_type": "code",
   "execution_count": 101,
   "metadata": {},
   "outputs": [
    {
     "data": {
      "text/plain": [
       "Index(['Maximum Wind', 'Minimum Pressure', 'Latitude', 'Year', 'Longitude'], dtype='object')"
      ]
     },
     "execution_count": 101,
     "metadata": {},
     "output_type": "execute_result"
    }
   ],
   "source": [
    "features.index[:5]"
   ]
  },
  {
   "cell_type": "code",
   "execution_count": 102,
   "metadata": {},
   "outputs": [],
   "source": [
    "X_sel = pacific[features.index[:5]]\n",
    "y = pacific['Status']"
   ]
  },
  {
   "cell_type": "code",
   "execution_count": 103,
   "metadata": {},
   "outputs": [],
   "source": [
    "X_train_val_sel, X_test_sel, y_train_val, y_test = train_test_split(X_sel,y,test_size=.2, random_state=2020)"
   ]
  },
  {
   "cell_type": "code",
   "execution_count": 104,
   "metadata": {},
   "outputs": [
    {
     "name": "stderr",
     "output_type": "stream",
     "text": [
      "[Parallel(n_jobs=-1)]: Using backend LokyBackend with 8 concurrent workers.\n",
      "[Parallel(n_jobs=-1)]: Done  34 tasks      | elapsed:   51.9s\n",
      "[Parallel(n_jobs=-1)]: Done  50 out of  50 | elapsed:  1.1min finished\n",
      "[Parallel(n_jobs=-1)]: Using backend LokyBackend with 8 concurrent workers.\n",
      "[Parallel(n_jobs=-1)]: Done  35 tasks      | elapsed:    4.4s\n",
      "[Parallel(n_jobs=-1)]: Done  50 out of  50 | elapsed:    4.9s finished\n",
      "[Parallel(n_jobs=-1)]: Using backend LokyBackend with 8 concurrent workers.\n",
      "[Parallel(n_jobs=-1)]: Done  34 tasks      | elapsed:  3.0min\n",
      "[Parallel(n_jobs=-1)]: Done  50 out of  50 | elapsed:  3.7min finished\n"
     ]
    }
   ],
   "source": [
    "rskf = RepeatedStratifiedKFold(n_splits=5, random_state=2020)\n",
    "\n",
    "rfc_score = cross_validate(rfc, X_train_val_sel, y_train_val, scoring=make_scorer(recall_score, average='weighted'), cv=rskf, n_jobs=-1, verbose=1)\n",
    "dtc_score = cross_validate(dtc, X_train_val_sel, y_train_val, scoring=make_scorer(recall_score, average='weighted'), cv=rskf, n_jobs=-1, verbose=1)\n",
    "xgb_score = cross_validate(xgb, X_train_val_sel, y_train_val, scoring=make_scorer(recall_score, average='weighted'), cv=rskf, n_jobs=-1, verbose=1)\n"
   ]
  },
  {
   "cell_type": "code",
   "execution_count": 105,
   "metadata": {},
   "outputs": [
    {
     "name": "stdout",
     "output_type": "stream",
     "text": [
      "Random forest Score is 0.9804151480742687\n",
      "Decision Tree Score is 0.9723611882727435\n",
      "XGbooster Score is 0.9791668945770595\n"
     ]
    }
   ],
   "source": [
    "print('Random forest Score is' , rfc_score['test_score'].mean())\n",
    "print('Decision Tree Score is', dtc_score['test_score'].mean())\n",
    "print('XGbooster Score is', xgb_score['test_score'].mean())\n"
   ]
  },
  {
   "cell_type": "markdown",
   "metadata": {},
   "source": [
    "## in this case Random Forest Classifier has the greatest recall score so we will be using random forest classifier"
   ]
  },
  {
   "cell_type": "code",
   "execution_count": 106,
   "metadata": {},
   "outputs": [
    {
     "data": {
      "text/plain": [
       "{'bootstrap': True,\n",
       " 'ccp_alpha': 0.0,\n",
       " 'class_weight': None,\n",
       " 'criterion': 'gini',\n",
       " 'max_depth': None,\n",
       " 'max_features': 'auto',\n",
       " 'max_leaf_nodes': None,\n",
       " 'max_samples': None,\n",
       " 'min_impurity_decrease': 0.0,\n",
       " 'min_impurity_split': None,\n",
       " 'min_samples_leaf': 1,\n",
       " 'min_samples_split': 2,\n",
       " 'min_weight_fraction_leaf': 0.0,\n",
       " 'n_estimators': 100,\n",
       " 'n_jobs': None,\n",
       " 'oob_score': False,\n",
       " 'random_state': None,\n",
       " 'verbose': 0,\n",
       " 'warm_start': False}"
      ]
     },
     "execution_count": 106,
     "metadata": {},
     "output_type": "execute_result"
    }
   ],
   "source": [
    "rfc.get_params()"
   ]
  },
  {
   "cell_type": "code",
   "execution_count": 107,
   "metadata": {},
   "outputs": [],
   "source": [
    "# Number of trees in random forest\n",
    "n_estimators = [int(x) for x in np.linspace(start = 200, stop = 2000, num = 10)]\n",
    "# Number of features to consider at every split\n",
    "max_features = ['auto', 'sqrt']\n",
    "# Maximum number of levels in tree\n",
    "max_depth = [int(x) for x in np.linspace(10, 110, num = 11)]\n",
    "max_depth.append(None)\n",
    "# Minimum number of samples required to split a node\n",
    "min_samples_split = [2, 5, 10]\n",
    "# Minimum number of samples required at each leaf node\n",
    "min_samples_leaf = [1, 2, 4]\n",
    "# Method of selecting samples for training each tree\n",
    "bootstrap = [True, False]\n",
    "# Create the random grid\n",
    "rfc_params = {'n_estimators': n_estimators,\n",
    "               'max_features': max_features,\n",
    "               'max_depth': max_depth,\n",
    "               'min_samples_split': min_samples_split,\n",
    "               'min_samples_leaf': min_samples_leaf,\n",
    "               'bootstrap': bootstrap}"
   ]
  },
  {
   "cell_type": "code",
   "execution_count": 108,
   "metadata": {},
   "outputs": [
    {
     "name": "stdout",
     "output_type": "stream",
     "text": [
      "Fitting 5 folds for each of 10 candidates, totalling 50 fits\n"
     ]
    },
    {
     "name": "stderr",
     "output_type": "stream",
     "text": [
      "[Parallel(n_jobs=-1)]: Using backend LokyBackend with 8 concurrent workers.\n",
      "[Parallel(n_jobs=-1)]: Done  34 tasks      | elapsed:  3.4min\n",
      "[Parallel(n_jobs=-1)]: Done  50 out of  50 | elapsed:  5.6min finished\n"
     ]
    },
    {
     "data": {
      "text/plain": [
       "RandomizedSearchCV(cv=StratifiedKFold(n_splits=5, random_state=1, shuffle=True),\n",
       "                   estimator=RandomForestClassifier(), n_jobs=-1,\n",
       "                   param_distributions={'bootstrap': [True, False],\n",
       "                                        'max_depth': [10, 20, 30, 40, 50, 60,\n",
       "                                                      70, 80, 90, 100, 110,\n",
       "                                                      None],\n",
       "                                        'max_features': ['auto', 'sqrt'],\n",
       "                                        'min_samples_leaf': [1, 2, 4],\n",
       "                                        'min_samples_split': [2, 5, 10],\n",
       "                                        'n_estimators': [200, 400, 600, 800,\n",
       "                                                         1000, 1200, 1400, 1600,\n",
       "                                                         1800, 2000]},\n",
       "                   scoring=make_scorer(recall_score, average=weighted),\n",
       "                   verbose=1)"
      ]
     },
     "execution_count": 108,
     "metadata": {},
     "output_type": "execute_result"
    }
   ],
   "source": [
    "skf = StratifiedKFold(n_splits=5, shuffle=True, random_state=1)\n",
    "rfc_random = RandomizedSearchCV(rfc, param_distributions=rfc_params, scoring=make_scorer(recall_score, average='weighted'), cv=skf, verbose=1, n_jobs=-1)\n",
    "rfc_random.fit(X_train_val_sel, y_train_val)\n"
   ]
  },
  {
   "cell_type": "code",
   "execution_count": 109,
   "metadata": {},
   "outputs": [
    {
     "name": "stderr",
     "output_type": "stream",
     "text": [
      "[Parallel(n_jobs=-1)]: Using backend LokyBackend with 8 concurrent workers.\n",
      "[Parallel(n_jobs=-1)]: Done  34 tasks      | elapsed:  1.4min\n",
      "[Parallel(n_jobs=-1)]: Done  50 out of  50 | elapsed:  1.9min finished\n"
     ]
    },
    {
     "data": {
      "text/plain": [
       "array([0.98278336, 0.97919656, 0.98254424, 0.98278336, 0.97847405,\n",
       "       0.98134864, 0.98158776, 0.98110952, 0.98158776, 0.98062664,\n",
       "       0.97824008, 0.98134864, 0.98278336, 0.98373984, 0.97990911,\n",
       "       0.97704448, 0.982066  , 0.98350072, 0.98254424, 0.98277924,\n",
       "       0.98350072, 0.9796748 , 0.98158776, 0.98302248, 0.98134418,\n",
       "       0.97824008, 0.97919656, 0.98302248, 0.9808704 , 0.98445348,\n",
       "       0.98134864, 0.98182688, 0.98182688, 0.98230512, 0.98254006,\n",
       "       0.9796748 , 0.98278336, 0.9808704 , 0.97800096, 0.98541019,\n",
       "       0.98134864, 0.98254424, 0.98110952, 0.98230512, 0.97943076,\n",
       "       0.9832616 , 0.98158776, 0.98421808, 0.98110952, 0.98038747])"
      ]
     },
     "execution_count": 109,
     "metadata": {},
     "output_type": "execute_result"
    }
   ],
   "source": [
    "rfc_tuned = rfc_random.best_estimator_\n",
    "rfc_tuned_score = cross_val_score(rfc_tuned, X_train_val_sel, y_train_val, scoring=make_scorer(recall_score, average='weighted'), cv=rskf, n_jobs=-1, verbose=1)\n",
    "rfc_tuned_score"
   ]
  },
  {
   "cell_type": "code",
   "execution_count": 110,
   "metadata": {},
   "outputs": [
    {
     "data": {
      "text/plain": [
       "0.9805251204150405"
      ]
     },
     "execution_count": 110,
     "metadata": {},
     "output_type": "execute_result"
    }
   ],
   "source": [
    "rfc_score_sel['test_score'].mean()"
   ]
  },
  {
   "cell_type": "code",
   "execution_count": 111,
   "metadata": {},
   "outputs": [
    {
     "data": {
      "text/plain": [
       "0.9814960083939656"
      ]
     },
     "execution_count": 111,
     "metadata": {},
     "output_type": "execute_result"
    }
   ],
   "source": [
    "rfc_tuned_score.mean()"
   ]
  },
  {
   "cell_type": "markdown",
   "metadata": {},
   "source": [
    "# Comparing benchmark model and tuned model"
   ]
  },
  {
   "cell_type": "code",
   "execution_count": 112,
   "metadata": {},
   "outputs": [],
   "source": [
    "model_default = rfc.fit(X_train_val_sel, y_train_val)\n",
    "y_pred_default = model_default.predict(X_test_sel)"
   ]
  },
  {
   "cell_type": "code",
   "execution_count": 125,
   "metadata": {},
   "outputs": [
    {
     "data": {
      "text/plain": [
       "<sklearn.metrics._plot.confusion_matrix.ConfusionMatrixDisplay at 0x295ed84dbe0>"
      ]
     },
     "execution_count": 125,
     "metadata": {},
     "output_type": "execute_result"
    },
    {
     "data": {
      "image/png": "[encoded data removed]",
      "text/plain": [
       "<Figure size 432x288 with 2 Axes>"
      ]
     },
     "metadata": {
      "needs_background": "light"
     },
     "output_type": "display_data"
    }
   ],
   "source": [
    "rfc.fit(X_train_val_sel, y_train_val)\n",
    "plot_confusion_matrix(rfc, X_test_sel, y_test)"
   ]
  },
  {
   "cell_type": "code",
   "execution_count": 113,
   "metadata": {},
   "outputs": [
    {
     "name": "stdout",
     "output_type": "stream",
     "text": [
      "              precision    recall  f1-score   support\n",
      "\n",
      "          DB       0.90      0.95      0.92        56\n",
      "          ET       0.69      0.65      0.67        37\n",
      "          EX       1.00      0.61      0.76        23\n",
      "          HU       1.00      1.00      1.00      1344\n",
      "          LO       0.92      0.92      0.92       377\n",
      "          PT       0.00      0.00      0.00         3\n",
      "          SD       0.33      1.00      0.50         1\n",
      "          SS       1.00      1.00      1.00         2\n",
      "          ST       1.00      0.50      0.67         2\n",
      "          TD       0.97      0.97      0.97      1389\n",
      "          TS       1.00      1.00      1.00      1994\n",
      "\n",
      "    accuracy                           0.98      5228\n",
      "   macro avg       0.80      0.78      0.76      5228\n",
      "weighted avg       0.98      0.98      0.98      5228\n",
      "\n"
     ]
    }
   ],
   "source": [
    "print(classification_report(y_test, y_pred_default))"
   ]
  },
  {
   "cell_type": "code",
   "execution_count": 114,
   "metadata": {},
   "outputs": [],
   "source": [
    "model_tuned = rfc_tuned.fit(X_train_val_sel, y_train_val)\n",
    "y_pred_tuned = model_tuned.predict(X_test_sel)"
   ]
  },
  {
   "cell_type": "code",
   "execution_count": 126,
   "metadata": {},
   "outputs": [
    {
     "data": {
      "text/plain": [
       "<sklearn.metrics._plot.confusion_matrix.ConfusionMatrixDisplay at 0x295efcbe9a0>"
      ]
     },
     "execution_count": 126,
     "metadata": {},
     "output_type": "execute_result"
    },
    {
     "data": {
      "image/png": "[encoded data removed]",
      "text/plain": [
       "<Figure size 432x288 with 2 Axes>"
      ]
     },
     "metadata": {
      "needs_background": "light"
     },
     "output_type": "display_data"
    }
   ],
   "source": [
    "rfc_tuned.fit(X_train_val_sel, y_train_val)\n",
    "plot_confusion_matrix(rfc_tuned, X_test_sel, y_test)"
   ]
  },
  {
   "cell_type": "code",
   "execution_count": 115,
   "metadata": {},
   "outputs": [
    {
     "name": "stdout",
     "output_type": "stream",
     "text": [
      "              precision    recall  f1-score   support\n",
      "\n",
      "          DB       0.90      0.95      0.92        56\n",
      "          ET       0.68      0.68      0.68        37\n",
      "          EX       0.93      0.61      0.74        23\n",
      "          HU       1.00      1.00      1.00      1344\n",
      "          LO       0.93      0.92      0.93       377\n",
      "          PT       1.00      0.33      0.50         3\n",
      "          SD       0.33      1.00      0.50         1\n",
      "          SS       1.00      0.50      0.67         2\n",
      "          ST       1.00      1.00      1.00         2\n",
      "          TD       0.97      0.97      0.97      1389\n",
      "          TS       1.00      1.00      1.00      1994\n",
      "\n",
      "    accuracy                           0.98      5228\n",
      "   macro avg       0.88      0.81      0.81      5228\n",
      "weighted avg       0.98      0.98      0.98      5228\n",
      "\n"
     ]
    }
   ],
   "source": [
    "print(classification_report(y_test, y_pred_tuned))"
   ]
  },
  {
   "cell_type": "markdown",
   "metadata": {},
   "source": [
    "## We can see that tuned model performs  better in terms of accuracy and recall, but no significant increase in Precision, since we will be using Precision Score mainly as metric, we will choose untuned model for less file size,"
   ]
  },
  {
   "cell_type": "markdown",
   "metadata": {},
   "source": [
    "> # Dumping"
   ]
  },
  {
   "cell_type": "code",
   "execution_count": 116,
   "metadata": {},
   "outputs": [],
   "source": [
    "rfc.fit(X_sel,y)\n",
    "filename = 'rfc4.sav'\n",
    "pickle.dump(rfc, open(filename, 'wb'))"
   ]
  },
  {
   "cell_type": "code",
   "execution_count": 117,
   "metadata": {},
   "outputs": [
    {
     "data": {
      "text/html": [
       "<div>\n",
       "<style scoped>\n",
       "    .dataframe tbody tr th:only-of-type {\n",
       "        vertical-align: middle;\n",
       "    }\n",
       "\n",
       "    .dataframe tbody tr th {\n",
       "        vertical-align: top;\n",
       "    }\n",
       "\n",
       "    .dataframe thead th {\n",
       "        text-align: right;\n",
       "    }\n",
       "</style>\n",
       "<table border=\"1\" class=\"dataframe\">\n",
       "  <thead>\n",
       "    <tr style=\"text-align: right;\">\n",
       "      <th></th>\n",
       "      <th>Maximum Wind</th>\n",
       "      <th>Minimum Pressure</th>\n",
       "      <th>Latitude</th>\n",
       "      <th>Year</th>\n",
       "      <th>Longitude</th>\n",
       "    </tr>\n",
       "    <tr>\n",
       "      <th>Unnamed: 0</th>\n",
       "      <th></th>\n",
       "      <th></th>\n",
       "      <th></th>\n",
       "      <th></th>\n",
       "      <th></th>\n",
       "    </tr>\n",
       "  </thead>\n",
       "  <tbody>\n",
       "    <tr>\n",
       "      <th>9288</th>\n",
       "      <td>40</td>\n",
       "      <td>995</td>\n",
       "      <td>16.1</td>\n",
       "      <td>1983</td>\n",
       "      <td>128.5</td>\n",
       "    </tr>\n",
       "    <tr>\n",
       "      <th>6651</th>\n",
       "      <td>45</td>\n",
       "      <td>995</td>\n",
       "      <td>31.3</td>\n",
       "      <td>1976</td>\n",
       "      <td>115.9</td>\n",
       "    </tr>\n",
       "    <tr>\n",
       "      <th>11712</th>\n",
       "      <td>65</td>\n",
       "      <td>994</td>\n",
       "      <td>17.9</td>\n",
       "      <td>1988</td>\n",
       "      <td>115.4</td>\n",
       "    </tr>\n",
       "    <tr>\n",
       "      <th>20505</th>\n",
       "      <td>45</td>\n",
       "      <td>1000</td>\n",
       "      <td>17.6</td>\n",
       "      <td>2005</td>\n",
       "      <td>111.7</td>\n",
       "    </tr>\n",
       "    <tr>\n",
       "      <th>2027</th>\n",
       "      <td>45</td>\n",
       "      <td>995</td>\n",
       "      <td>25.8</td>\n",
       "      <td>1963</td>\n",
       "      <td>172.2</td>\n",
       "    </tr>\n",
       "    <tr>\n",
       "      <th>...</th>\n",
       "      <td>...</td>\n",
       "      <td>...</td>\n",
       "      <td>...</td>\n",
       "      <td>...</td>\n",
       "      <td>...</td>\n",
       "    </tr>\n",
       "    <tr>\n",
       "      <th>18523</th>\n",
       "      <td>25</td>\n",
       "      <td>1011</td>\n",
       "      <td>19.8</td>\n",
       "      <td>2001</td>\n",
       "      <td>148.9</td>\n",
       "    </tr>\n",
       "    <tr>\n",
       "      <th>11971</th>\n",
       "      <td>110</td>\n",
       "      <td>995</td>\n",
       "      <td>15.4</td>\n",
       "      <td>1988</td>\n",
       "      <td>159.8</td>\n",
       "    </tr>\n",
       "    <tr>\n",
       "      <th>14966</th>\n",
       "      <td>50</td>\n",
       "      <td>997</td>\n",
       "      <td>22.2</td>\n",
       "      <td>1993</td>\n",
       "      <td>106.9</td>\n",
       "    </tr>\n",
       "    <tr>\n",
       "      <th>7491</th>\n",
       "      <td>95</td>\n",
       "      <td>995</td>\n",
       "      <td>15.3</td>\n",
       "      <td>1979</td>\n",
       "      <td>117.7</td>\n",
       "    </tr>\n",
       "    <tr>\n",
       "      <th>9056</th>\n",
       "      <td>35</td>\n",
       "      <td>995</td>\n",
       "      <td>21.1</td>\n",
       "      <td>1983</td>\n",
       "      <td>145.6</td>\n",
       "    </tr>\n",
       "  </tbody>\n",
       "</table>\n",
       "<p>20909 rows × 5 columns</p>\n",
       "</div>"
      ],
      "text/plain": [
       "            Maximum Wind  Minimum Pressure  Latitude  Year  Longitude\n",
       "Unnamed: 0                                                           \n",
       "9288                  40               995      16.1  1983      128.5\n",
       "6651                  45               995      31.3  1976      115.9\n",
       "11712                 65               994      17.9  1988      115.4\n",
       "20505                 45              1000      17.6  2005      111.7\n",
       "2027                  45               995      25.8  1963      172.2\n",
       "...                  ...               ...       ...   ...        ...\n",
       "18523                 25              1011      19.8  2001      148.9\n",
       "11971                110               995      15.4  1988      159.8\n",
       "14966                 50               997      22.2  1993      106.9\n",
       "7491                  95               995      15.3  1979      117.7\n",
       "9056                  35               995      21.1  1983      145.6\n",
       "\n",
       "[20909 rows x 5 columns]"
      ]
     },
     "execution_count": 117,
     "metadata": {},
     "output_type": "execute_result"
    }
   ],
   "source": [
    "X_train_val_sel"
   ]
  },
  {
   "cell_type": "code",
   "execution_count": 118,
   "metadata": {},
   "outputs": [],
   "source": [
    "# nyoba api"
   ]
  },
  {
   "cell_type": "code",
   "execution_count": 119,
   "metadata": {},
   "outputs": [],
   "source": [
    "df_to_predict = pd.DataFrame({\n",
    "            'Maximum Wind': [222],\n",
    "            'Minimum Pressure': [1222],\n",
    "            'Year': [2001],\n",
    "            'Latitude': [16.1],\n",
    "            'Longitude': [110]\n",
    "    \n",
    "        })\n",
    "\n",
    "#  222 1222 2001 16.1 110"
   ]
  },
  {
   "cell_type": "code",
   "execution_count": 122,
   "metadata": {},
   "outputs": [],
   "source": [
    "prediksi = rfc.predict_proba(df_to_predict)"
   ]
  },
  {
   "cell_type": "code",
   "execution_count": 124,
   "metadata": {},
   "outputs": [
    {
     "data": {
      "text/plain": [
       "array([[0.  , 0.02, 0.18, 0.72, 0.  , 0.  , 0.  , 0.  , 0.  , 0.  , 0.08]])"
      ]
     },
     "execution_count": 124,
     "metadata": {},
     "output_type": "execute_result"
    }
   ],
   "source": [
    "prediksi"
   ]
  },
  {
   "cell_type": "code",
   "execution_count": null,
   "metadata": {},
   "outputs": [],
   "source": []
  }
 ],
 "metadata": {
  "kernelspec": {
   "display_name": "Python 3",
   "language": "python",
   "name": "python3"
  },
  "language_info": {
   "codemirror_mode": {
    "name": "ipython",
    "version": 3
   },
   "file_extension": ".py",
   "mimetype": "text/x-python",
   "name": "python",
   "nbconvert_exporter": "python",
   "pygments_lexer": "ipython3",
   "version": "3.8.3"
  }
 },
 "nbformat": 4,
 "nbformat_minor": 4
}
